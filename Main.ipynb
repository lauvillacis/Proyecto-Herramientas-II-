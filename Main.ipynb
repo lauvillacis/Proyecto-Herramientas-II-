{
 "cells": [
  {
   "cell_type": "code",
   "execution_count": 4,
   "id": "e2f5aea6",
   "metadata": {},
   "outputs": [],
   "source": [
    "from cod.CargarDatos import CargarDatos\n",
    "from cod.Modelos import Modelos\n",
    "from cod.Metricas import Metricas\n",
    "import pandas as pd "
   ]
  },
  {
   "cell_type": "code",
   "execution_count": 11,
   "id": "451aa22e",
   "metadata": {},
   "outputs": [],
   "source": [
    "base = CargarDatos(pd.DataFrame())\n",
    "base = base.cargar_base('data/base.xlsx')"
   ]
  },
  {
   "cell_type": "code",
   "execution_count": 12,
   "id": "ec546c0f",
   "metadata": {},
   "outputs": [
    {
     "ename": "AttributeError",
     "evalue": "'NoneType' object has no attribute 'base'",
     "output_type": "error",
     "traceback": [
      "\u001b[0;31m---------------------------------------------------------------------------\u001b[0m",
      "\u001b[0;31mAttributeError\u001b[0m                            Traceback (most recent call last)",
      "Cell \u001b[0;32mIn[12], line 1\u001b[0m\n\u001b[0;32m----> 1\u001b[0m base2 \u001b[38;5;241m=\u001b[39m pd\u001b[38;5;241m.\u001b[39mDataFrame(base\u001b[38;5;241m.\u001b[39mbase)\n\u001b[1;32m      2\u001b[0m base2\u001b[38;5;241m.\u001b[39mhead(\u001b[38;5;241m10\u001b[39m)\n",
      "\u001b[0;31mAttributeError\u001b[0m: 'NoneType' object has no attribute 'base'"
     ]
    }
   ],
   "source": [
    "base2 = pd.DataFrame(base.base())\n",
    "base2.head(10)"
   ]
  }
 ],
 "metadata": {
  "kernelspec": {
   "display_name": "Python 3 (ipykernel)",
   "language": "python",
   "name": "python3"
  },
  "language_info": {
   "codemirror_mode": {
    "name": "ipython",
    "version": 3
   },
   "file_extension": ".py",
   "mimetype": "text/x-python",
   "name": "python",
   "nbconvert_exporter": "python",
   "pygments_lexer": "ipython3",
   "version": "3.11.7"
  }
 },
 "nbformat": 4,
 "nbformat_minor": 5
}
